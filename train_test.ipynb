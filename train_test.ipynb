{
 "cells": [
  {
   "cell_type": "code",
   "execution_count": null,
   "metadata": {},
   "outputs": [],
   "source": [
    "import numpy as np\n",
    "from scripts.models import *\n",
    "from scripts.utils import *\n",
    "import os\n",
    "from PIL import Image\n",
    "import numpy as np\n",
    "import matplotlib.pyplot as plt"
   ]
  },
  {
   "cell_type": "code",
   "execution_count": null,
   "metadata": {},
   "outputs": [],
   "source": [
    "print('CT training images :',len(os.listdir(\"data/Dataset/images/train/CT\")))\n",
    "print('MRI training images :',len(os.listdir(\"data/Dataset/images/train/MRI\")))"
   ]
  },
  {
   "cell_type": "code",
   "execution_count": null,
   "metadata": {},
   "outputs": [],
   "source": [
    "print('CT images',photo_mean_size(\"data/Dataset/images/train/CT\"))\n",
    "print('MRI images',photo_mean_size(\"data/Dataset/images/train/MRI\"))"
   ]
  },
  {
   "cell_type": "code",
   "execution_count": null,
   "metadata": {},
   "outputs": [],
   "source": [
    "ct_train_dataset = create_dataset('data/Dataset/images/train/CT', channels = 1, target_size = (360,360)).batch(1)\n",
    "mri_train_dataset = create_dataset('data/Dataset/images/train/MRI', channels = 3 ,target_size = (360,360)).batch(1)\n",
    "ct_iter = next(iter(ct_train_dataset))\n",
    "mri_iter = next(iter(mri_train_dataset))\n",
    "ct_test_dataset = create_dataset('data/Dataset/images/test/CT', channels = 1, target_size = (360,360)).batch(1)\n",
    "mri_test_dataset = create_dataset('data/Dataset/images/test/MRI', channels = 3, target_size = (360,360)).batch(1)\n",
    "test_ct = next(iter(ct_test_dataset))\n",
    "test_mri = next(iter(mri_test_dataset))"
   ]
  },
  {
   "cell_type": "code",
   "execution_count": null,
   "metadata": {},
   "outputs": [],
   "source": [
    "g = Generator()\n",
    "\n",
    "fig, axes = plt.subplots(nrows=1, ncols=2, figsize=(10, 4))\n",
    "fig.suptitle('Generator', fontsize=16)\n",
    "\n",
    "ax = axes[0]\n",
    "ax.imshow(test_ct[0])\n",
    "axes[0].set_title('Original CT', size='large', loc='center')\n",
    "\n",
    "ax = axes[1]\n",
    "\n",
    "ax.imshow(g(test_ct, training = False)[0])\n",
    "axes[1].set_title('Generator', size='large', loc='center')\n",
    "\n",
    "plt.show()"
   ]
  },
  {
   "cell_type": "code",
   "execution_count": null,
   "metadata": {},
   "outputs": [],
   "source": [
    "ct_gen_opt = tf.keras.optimizers.legacy.Adam(2e-4, beta_1=0.5)\n",
    "mri_gen_opt = tf.keras.optimizers.legacy.Adam(2e-4, beta_1=0.5)\n",
    "ct_disc_opt = tf.keras.optimizers.legacy.Adam(2e-4, beta_1=0.5)\n",
    "mri_disc_opt = tf.keras.optimizers.legacy.Adam(2e-4, beta_1=0.5)"
   ]
  },
  {
   "cell_type": "code",
   "execution_count": null,
   "metadata": {},
   "outputs": [],
   "source": [
    "cycle_gan = CycleGAN()\n",
    "cycle_gan.compile(ct_gen_opt, mri_gen_opt, ct_disc_opt, mri_disc_opt)"
   ]
  },
  {
   "cell_type": "code",
   "execution_count": null,
   "metadata": {},
   "outputs": [],
   "source": [
    "cycle_gan.fit(tf.data.Dataset.zip((ct_train_dataset, mri_train_dataset)), epochs=5, verbose = 1, callbacks = callback)"
   ]
  },
  {
   "cell_type": "code",
   "execution_count": null,
   "metadata": {},
   "outputs": [],
   "source": []
  },
  {
   "cell_type": "code",
   "execution_count": null,
   "metadata": {},
   "outputs": [],
   "source": []
  }
 ],
 "metadata": {
  "kernelspec": {
   "display_name": "Tensorflow",
   "language": "python",
   "name": "python3"
  },
  "language_info": {
   "codemirror_mode": {
    "name": "ipython",
    "version": 3
   },
   "file_extension": ".py",
   "mimetype": "text/x-python",
   "name": "python",
   "nbconvert_exporter": "python",
   "pygments_lexer": "ipython3",
   "version": "3.10.13"
  }
 },
 "nbformat": 4,
 "nbformat_minor": 2
}
